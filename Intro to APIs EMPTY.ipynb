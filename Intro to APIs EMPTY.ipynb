{
 "cells": [
  {
   "cell_type": "markdown",
   "id": "7196054f",
   "metadata": {},
   "source": [
    "# Working with APIs"
   ]
  },
  {
   "cell_type": "markdown",
   "id": "0547b71e",
   "metadata": {},
   "source": [
    "API stands for Application programming interface<br>\n",
    "APIs are a way for applications to talk to eachother<br>\n",
    "In python we use the requests package to handle the connection<br>\n",
    "<small><strong>Note: It is requests with an s not request(this is a different package)</strong></small><br>\n",
    "Most API's communicate with data in the form of JSON<br>\n",
    "JSON stands for JavaScript Object Notation"
   ]
  },
  {
   "cell_type": "code",
   "execution_count": 4,
   "id": "4db9d154",
   "metadata": {},
   "outputs": [
    {
     "ename": "ModuleNotFoundError",
     "evalue": "No module named 'requests'",
     "output_type": "error",
     "traceback": [
      "\u001b[1;31m---------------------------------------------------------------------------\u001b[0m",
      "\u001b[1;31mModuleNotFoundError\u001b[0m                       Traceback (most recent call last)",
      "\u001b[1;32mc:\\Users\\andre\\OneDrive\\Documents\\Coding Temple\\Portfolio\\week4\\day4\\Intro to APIs EMPTY.ipynb Cell 3\u001b[0m in \u001b[0;36m<cell line: 2>\u001b[1;34m()\u001b[0m\n\u001b[0;32m      <a href='vscode-notebook-cell:/c%3A/Users/andre/OneDrive/Documents/Coding%20Temple/Portfolio/week4/day4/Intro%20to%20APIs%20EMPTY.ipynb#ch0000002?line=0'>1</a>\u001b[0m \u001b[39m#import the packages we need:\u001b[39;00m\n\u001b[1;32m----> <a href='vscode-notebook-cell:/c%3A/Users/andre/OneDrive/Documents/Coding%20Temple/Portfolio/week4/day4/Intro%20to%20APIs%20EMPTY.ipynb#ch0000002?line=1'>2</a>\u001b[0m \u001b[39mimport\u001b[39;00m \u001b[39mrequests\u001b[39;00m\n",
      "\u001b[1;31mModuleNotFoundError\u001b[0m: No module named 'requests'"
     ]
    }
   ],
   "source": [
    "#import the packages we need:\n",
    "import requests"
   ]
  },
  {
   "cell_type": "markdown",
   "id": "e8c2ce51",
   "metadata": {},
   "source": [
    "We will be connecting to the Ergast F1 Racer API today:\n",
    "http://ergast.com/mrd/\n",
    "\n",
    "to view JSON data nicely in the Chrome browser install the extension JSONview"
   ]
  },
  {
   "cell_type": "code",
   "execution_count": 3,
   "id": "52c440c6",
   "metadata": {},
   "outputs": [
    {
     "ename": "NameError",
     "evalue": "name 'requests' is not defined",
     "output_type": "error",
     "traceback": [
      "\u001b[1;31m---------------------------------------------------------------------------\u001b[0m",
      "\u001b[1;31mNameError\u001b[0m                                 Traceback (most recent call last)",
      "\u001b[1;32mc:\\Users\\andre\\OneDrive\\Documents\\Coding Temple\\Portfolio\\week4\\day4\\Intro to APIs EMPTY.ipynb Cell 5\u001b[0m in \u001b[0;36m<cell line: 1>\u001b[1;34m()\u001b[0m\n\u001b[1;32m----> <a href='vscode-notebook-cell:/c%3A/Users/andre/OneDrive/Documents/Coding%20Temple/Portfolio/week4/day4/Intro%20to%20APIs%20EMPTY.ipynb#ch0000004?line=0'>1</a>\u001b[0m help(requests)\n",
      "\u001b[1;31mNameError\u001b[0m: name 'requests' is not defined"
     ]
    }
   ],
   "source": [
    "help(requests)"
   ]
  },
  {
   "cell_type": "code",
   "execution_count": null,
   "id": "f60c1b4a",
   "metadata": {},
   "outputs": [],
   "source": []
  },
  {
   "cell_type": "code",
   "execution_count": 2,
   "id": "7b63a204",
   "metadata": {},
   "outputs": [],
   "source": [
    "#response object\n"
   ]
  },
  {
   "cell_type": "code",
   "execution_count": 3,
   "id": "c6d1fdaf",
   "metadata": {},
   "outputs": [],
   "source": [
    "#check and make sure we got a successful response from the API\n"
   ]
  },
  {
   "cell_type": "code",
   "execution_count": 4,
   "id": "ed4d3256",
   "metadata": {},
   "outputs": [],
   "source": [
    "#view the response as a JSON\n"
   ]
  },
  {
   "cell_type": "code",
   "execution_count": null,
   "id": "92e6cd2c",
   "metadata": {},
   "outputs": [],
   "source": []
  },
  {
   "cell_type": "code",
   "execution_count": 5,
   "id": "f074dfcf",
   "metadata": {},
   "outputs": [],
   "source": [
    "# We only want the Driver Standings\n"
   ]
  },
  {
   "cell_type": "code",
   "execution_count": null,
   "id": "be46a950",
   "metadata": {},
   "outputs": [],
   "source": []
  },
  {
   "cell_type": "code",
   "execution_count": null,
   "id": "3740c752",
   "metadata": {},
   "outputs": [],
   "source": []
  },
  {
   "cell_type": "markdown",
   "id": "6d546014",
   "metadata": {},
   "source": [
    "# <strong>Homework</strong>\n",
    "check out this Pokemon API https://pokeapi.co/\n",
    "Use the requests package to connect to this API and get and store data for 5 different pokemon.\n",
    "Get the pokemons: name, atleast one ability's name, base_experience, and the URL for its sprite (an image that shows up on screen) for the 'front_shiny', attack base_state, hp base_stat, defense base_stat"
   ]
  },
  {
   "cell_type": "code",
   "execution_count": null,
   "id": "5a9081e3",
   "metadata": {},
   "outputs": [],
   "source": [
    "# this pulls the data from the PokeAPI, but only for the ones in the list\n",
    "import requests\n",
    "pokeUrl = [\"https://pokeapi.co/api/v2/pokemon/mew\", \"https://pokeapi.co/api/v2/pokemon/squirtle\", \n",
    "          \"https://pokeapi.co/api/v2/pokemon/pikachu\", \"https://pokeapi.co/api/v2/pokemon/charmander\",\n",
    "         \"https://pokeapi.co/api/v2/pokemon/bulbasaur\"]\n",
    "for url in pokeUrl:\n",
    "    data = requests.get(url).json()\n",
    "    print(f\"Name: {data['forms'][0]['name'].title()}\")\n",
    "    print(f\"Ability: {data['abilities'][0]['ability']['name'].title()}\")\n",
    "    print(f\"Base Experience: {data['base_experience']}\")\n",
    "    print(f\"Sprite: {data['sprites']['front_shiny']}\")\n",
    "    print(f\"Attack Base Stat: {data['stats'][0]['base_stat']}\")\n",
    "    print(f\"HP Base Stat: {data['stats'][1]['base_stat']}\")\n",
    "    print(f\"Defense Base Stat: {data['stats'][2]['base_stat']}\")\n",
    "    print(\"-------------------------------------------------------\")\n",
    "\n",
    "# put this into a function to make it work for any pokemon\n",
    "def get_poke_info(poke_name):\n",
    "    url = f'https://pokeapi.co/api/v2/pokemon/{poke_name}'\n",
    "    response = requests.get(url)\n",
    "    if response.ok:\n",
    "        data = response.json()\n",
    "        print(f\"Name: {data['forms'][0]['name'].title()}\")\n",
    "        print(f\"Ability: {data['abilities'][0]['ability']['name'].title()}\")\n",
    "        print(f\"Base Experience: {data['base_experience']}\")\n",
    "        print(f\"Sprite: {data['sprites']['front_shiny']}\")\n",
    "        print(f\"Attack Base Stat: {data['stats'][0]['base_stat']}\")\n",
    "        print(f\"HP Base Stat: {data['stats'][1]['base_stat']}\")\n",
    "        print(f\"Defense Base Stat: {data['stats'][2]['base_stat']}\")\n",
    "        print(\"-------------------------------------------------------\")\n",
    "    else:\n",
    "        return \"Sorry, that Pokemon does not exist!\"\n",
    "\n",
    "get_poke_info('pikachu')\n",
    "get_poke_info('mew')\n",
    "get_poke_info('bulbasaur')\n",
    "get_poke_info('charmander')\n",
    "get_poke_info('squirtle')"
   ]
  },
  {
   "cell_type": "code",
   "execution_count": null,
   "id": "5604a305",
   "metadata": {},
   "outputs": [],
   "source": [
    "# creating the function that will store the data\n",
    "import requests\n",
    "def get_more_poke_info(poke_name):\n",
    "    url = f'https://pokeapi.co/api/v2/pokemon/{poke_name}'\n",
    "    response = requests.get(url)\n",
    "    data = response.json()\n",
    "    poke_data = []\n",
    "    poke_dict = {}\n",
    "    pokemon = data['forms'][0]['name']\n",
    "    poke_dict[pokemon] = {\n",
    "        'name' : data['forms'][0]['name'],\n",
    "        'abilities' : data['abilities'][0]['ability']['name'],\n",
    "        'base_exp' : data['base_experience'],\n",
    "        'sprite' : data['sprites']['front_shiny'],\n",
    "        'attack' : data['stats'][0]['base_stat'],\n",
    "        'hp' : data['stats'][1]['base_stat'],\n",
    "        'defense' : data['stats'][2]['base_stat']\n",
    "        }\n",
    "    \n",
    "    poke_data.append(poke_dict)\n",
    "    return poke_data\n",
    "\n",
    "get_more_poke_info('pikachu')\n",
    "get_more_poke_info('mew')\n",
    "get_more_poke_info('bulbasaur')\n",
    "get_more_poke_info('squirtle')\n",
    "get_more_poke_info('charmander')"
   ]
  }
 ],
 "metadata": {
  "kernelspec": {
   "display_name": "Python 3.9.13 64-bit",
   "language": "python",
   "name": "python3"
  },
  "language_info": {
   "codemirror_mode": {
    "name": "ipython",
    "version": 3
   },
   "file_extension": ".py",
   "mimetype": "text/x-python",
   "name": "python",
   "nbconvert_exporter": "python",
   "pygments_lexer": "ipython3",
   "version": "3.9.13"
  },
  "vscode": {
   "interpreter": {
    "hash": "08e595c52ca3b9470036b1110e67b559e55f367cabc363f2e28d35631ed95060"
   }
  }
 },
 "nbformat": 4,
 "nbformat_minor": 5
}
